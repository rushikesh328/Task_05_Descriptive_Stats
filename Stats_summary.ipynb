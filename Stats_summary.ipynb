{
 "cells": [
  {
   "cell_type": "code",
   "execution_count": 2,
   "id": "7033677e",
   "metadata": {},
   "outputs": [
    {
     "name": "stdout",
     "output_type": "stream",
     "text": [
      "{'shape': (120, 9), 'columns': ['Track', 'Position', 'No', 'Driver', 'Team', 'Starting Grid', 'Laps', 'Time/Retired', 'Points'], 'sample_data':    Track Position  No           Driver                        Team  \\\n",
      "0  China        1   1   Max Verstappen  Red Bull Racing Honda RBPT   \n",
      "1  China        2  44   Lewis Hamilton                    Mercedes   \n",
      "2  China        3  11     Sergio Perez  Red Bull Racing Honda RBPT   \n",
      "3  China        4  16  Charles Leclerc                     Ferrari   \n",
      "4  China        5  55     Carlos Sainz                     Ferrari   \n",
      "\n",
      "   Starting Grid  Laps Time/Retired  Points  \n",
      "0              4    19    32:04.660       8  \n",
      "1              2    19      +13.043       7  \n",
      "2              6    19      +15.258       6  \n",
      "3              7    19      +17.486       5  \n",
      "4              5    19      +20.696       4  }\n"
     ]
    }
   ],
   "source": [
    "import pandas as pd\n",
    "df = pd.read_csv(r\"c:\\Users\\lenovo\\Documents\\MS documents\\RA work\\16-31 July\\Formula1_2024season_sprintResults.csv\")\n",
    "\n",
    "summary = {\n",
    "    \"shape\": df.shape,\n",
    "    \"columns\": df.columns.tolist(),\n",
    "    \"sample_data\": df.head(5)\n",
    "}\n",
    "\n",
    "print(summary)"
   ]
  },
  {
   "cell_type": "markdown",
   "id": "4b509ae4",
   "metadata": {},
   "source": [
    "## **Basic Questions**"
   ]
  },
  {
   "cell_type": "markdown",
   "id": "8c93a45b",
   "metadata": {},
   "source": [
    "### Q1: Which driver earned the most sprint points overall during the 2024 season?"
   ]
  },
  {
   "cell_type": "code",
   "execution_count": 3,
   "id": "132cfdfe",
   "metadata": {},
   "outputs": [
    {
     "data": {
      "text/plain": [
       "Driver\n",
       "Max Verstappen    38\n",
       "Name: Points, dtype: int64"
      ]
     },
     "execution_count": 3,
     "metadata": {},
     "output_type": "execute_result"
    }
   ],
   "source": [
    "driver_points = df.groupby(\"Driver\")[\"Points\"].sum().sort_values(ascending=False)\n",
    "top_driver = driver_points.head(1)\n",
    "\n",
    "top_driver\n"
   ]
  },
  {
   "cell_type": "markdown",
   "id": "45a433e2",
   "metadata": {},
   "source": [
    "### Q2: Which team earned the most sprint points overall in the 2024 season?"
   ]
  },
  {
   "cell_type": "code",
   "execution_count": 4,
   "id": "e0194795",
   "metadata": {},
   "outputs": [
    {
     "data": {
      "text/plain": [
       "Team\n",
       "McLaren Mercedes    57\n",
       "Name: Points, dtype: int64"
      ]
     },
     "execution_count": 4,
     "metadata": {},
     "output_type": "execute_result"
    }
   ],
   "source": [
    "team_points = df.groupby(\"Team\")[\"Points\"].sum().sort_values(ascending=False)\n",
    "top_team = team_points.head(1)\n",
    "\n",
    "top_team"
   ]
  },
  {
   "cell_type": "markdown",
   "id": "7c2905e7",
   "metadata": {},
   "source": [
    "### Q3: Which driver had the best average finishing position in sprint races during the 2024 season?"
   ]
  },
  {
   "cell_type": "code",
   "execution_count": 5,
   "id": "ca49fa69",
   "metadata": {},
   "outputs": [
    {
     "name": "stdout",
     "output_type": "stream",
     "text": [
      "Driver\n",
      "Max Verstappen     2.666667\n",
      "Lando Norris       3.000000\n",
      "Charles Leclerc    4.166667\n",
      "Carlos Sainz       4.333333\n",
      "Oscar Piastri      4.666667\n",
      "Name: Position, dtype: float64\n"
     ]
    }
   ],
   "source": [
    "df[\"Position\"] = pd.to_numeric(df[\"Position\"], errors=\"coerce\")\n",
    "avg_position = df.groupby(\"Driver\")[\"Position\"].mean().sort_values()\n",
    "print(avg_position.head(5))"
   ]
  },
  {
   "cell_type": "markdown",
   "id": "4dece3b8",
   "metadata": {},
   "source": [
    "## **Moderate Questions**"
   ]
  },
  {
   "cell_type": "markdown",
   "id": "5612c618",
   "metadata": {},
   "source": [
    "### Q1: Which team had the most consistent sprint performance in 2024?"
   ]
  },
  {
   "cell_type": "code",
   "execution_count": 6,
   "id": "6f100357",
   "metadata": {},
   "outputs": [
    {
     "name": "stdout",
     "output_type": "stream",
     "text": [
      "Team\n",
      "Ferrari                         1.422226\n",
      "Alpine Renault                  2.701010\n",
      "McLaren Mercedes                2.913916\n",
      "Williams Mercedes               3.028901\n",
      "Aston Martin Aramco Mercedes    3.349355\n",
      "Name: Position, dtype: float64\n"
     ]
    }
   ],
   "source": [
    "consistency = df.groupby(\"Team\")[\"Position\"].std().sort_values()\n",
    "print(consistency.head(5))"
   ]
  },
  {
   "cell_type": "markdown",
   "id": "206f9b38",
   "metadata": {},
   "source": [
    "### Q2: Is starting position a strong predictor of finishing position in sprint races?"
   ]
  },
  {
   "cell_type": "code",
   "execution_count": 7,
   "id": "595a1a0e",
   "metadata": {},
   "outputs": [
    {
     "name": "stdout",
     "output_type": "stream",
     "text": [
      "Correlation between Starting Grid and Finishing Position: 0.8468889558982979\n"
     ]
    }
   ],
   "source": [
    "df[\"Starting Grid\"] = pd.to_numeric(df[\"Starting Grid\"], errors=\"coerce\")\n",
    "correlation = df[\"Starting Grid\"].corr(df[\"Position\"])\n",
    "print(\"Correlation between Starting Grid and Finishing Position:\", correlation)"
   ]
  },
  {
   "cell_type": "markdown",
   "id": "7f06a35e",
   "metadata": {},
   "source": [
    "## **Complex Questions**"
   ]
  },
  {
   "cell_type": "markdown",
   "id": "64d02be7",
   "metadata": {},
   "source": [
    "### Q1: If I want to win more sprint races, should I focus on improving qualifying position or race strategy?"
   ]
  },
  {
   "cell_type": "code",
   "execution_count": 8,
   "id": "a08ec6be",
   "metadata": {},
   "outputs": [
    {
     "name": "stderr",
     "output_type": "stream",
     "text": [
      "C:\\Users\\lenovo\\AppData\\Local\\Temp\\ipykernel_9956\\2997384939.py:11: SettingWithCopyWarning: \n",
      "A value is trying to be set on a copy of a slice from a DataFrame.\n",
      "Try using .loc[row_indexer,col_indexer] = value instead\n",
      "\n",
      "See the caveats in the documentation: https://pandas.pydata.org/pandas-docs/stable/user_guide/indexing.html#returning-a-view-versus-a-copy\n",
      "  df_clean.loc[:, \"Improvement\"] = df_clean[\"Starting Grid\"] - df_clean[\"Position\"]\n"
     ]
    },
    {
     "name": "stdout",
     "output_type": "stream",
     "text": [
      "Correlation between Improvement (gaining positions) and Points: 0.04\n",
      "Correlation between Starting Grid and Points: -0.81\n"
     ]
    },
    {
     "data": {
      "image/png": "[encoded data removed]",
      "text/plain": [
       "<Figure size 750x500 with 1 Axes>"
      ]
     },
     "metadata": {},
     "output_type": "display_data"
    },
    {
     "data": {
      "image/png": "[encoded data removed]",
      "text/plain": [
       "<Figure size 750x500 with 1 Axes>"
      ]
     },
     "metadata": {},
     "output_type": "display_data"
    }
   ],
   "source": [
    "import matplotlib.pyplot as plt\n",
    "import seaborn as sns\n",
    "\n",
    "df[\"Position\"] = pd.to_numeric(df[\"Position\"], errors=\"coerce\")\n",
    "df[\"Points\"] = pd.to_numeric(df[\"Points\"], errors=\"coerce\")\n",
    "\n",
    "# Dropping rows with NaNs in key columns\n",
    "df_clean = df.dropna(subset=[\"Starting Grid\", \"Position\", \"Points\"])\n",
    "\n",
    "# Creating improvement metric (positions gained)\n",
    "df_clean.loc[:, \"Improvement\"] = df_clean[\"Starting Grid\"] - df_clean[\"Position\"]\n",
    "\n",
    "# 1. Correlation between Improvement and Points\n",
    "improvement_vs_points_corr = df_clean[\"Improvement\"].corr(df_clean[\"Points\"])\n",
    "\n",
    "# 2. Correlation between Starting Grid and Points\n",
    "start_vs_points_corr = df_clean[\"Starting Grid\"].corr(df_clean[\"Points\"])\n",
    "\n",
    "print(f\"Correlation between Improvement (gaining positions) and Points: {improvement_vs_points_corr:.2f}\")\n",
    "print(f\"Correlation between Starting Grid and Points: {start_vs_points_corr:.2f}\")\n",
    "\n",
    "# Plotting relationships\n",
    "sns.lmplot(data=df_clean, x=\"Starting Grid\", y=\"Points\", aspect=1.5)\n",
    "plt.title(\"Starting Grid vs Points\")\n",
    "plt.show()\n",
    "\n",
    "sns.lmplot(data=df_clean, x=\"Improvement\", y=\"Points\", aspect=1.5)\n",
    "plt.title(\"Improvement vs Points\")\n",
    "plt.show()\n"
   ]
  },
  {
   "cell_type": "markdown",
   "id": "7e49e0cb",
   "metadata": {},
   "source": [
    "### Q2. Who is the most efficient driver in terms of converting grid position into points?"
   ]
  },
  {
   "cell_type": "code",
   "execution_count": 10,
   "id": "84936292",
   "metadata": {},
   "outputs": [
    {
     "name": "stdout",
     "output_type": "stream",
     "text": [
      "\n",
      "=== Driver Efficiency (Points per Grid Position) ===\n",
      "Driver\n",
      "Max Verstappen     4.569444\n",
      "Lando Norris       3.083333\n",
      "Oscar Piastri      2.125000\n",
      "Charles Leclerc    1.480159\n",
      "George Russell     1.140152\n",
      "Name: Efficiency, dtype: float64\n"
     ]
    }
   ],
   "source": [
    "# Efficiency: points earned per starting grid position (lower grid but still scoring = more efficient)\n",
    "df[\"Efficiency\"] = df[\"Points\"] / df[\"Starting Grid\"]\n",
    "\n",
    "driver_efficiency = df.groupby(\"Driver\")[\"Efficiency\"].mean().sort_values(ascending=False)\n",
    "print(\"\\n=== Driver Efficiency (Points per Grid Position) ===\")\n",
    "print(driver_efficiency.head(5))\n"
   ]
  },
  {
   "cell_type": "markdown",
   "id": "dbffa82a",
   "metadata": {},
   "source": [
    "### Q3. Which team performs best under pressure (when starting outside the Top 10)?"
   ]
  },
  {
   "cell_type": "code",
   "execution_count": 11,
   "id": "50ea1892",
   "metadata": {},
   "outputs": [
    {
     "name": "stdout",
     "output_type": "stream",
     "text": [
      "\n",
      "=== Team Performance When Starting Outside Top 10 ===\n",
      "                               Position    Points\n",
      "Team                                             \n",
      "Red Bull Racing Honda RBPT    12.333333  0.333333\n",
      "Mercedes                      11.750000  0.250000\n",
      "RB Honda RBPT                 13.750000  0.125000\n",
      "Alpine Renault                13.500000  0.000000\n",
      "Aston Martin Aramco Mercedes  14.555556  0.000000\n"
     ]
    }
   ],
   "source": [
    "under_pressure = df[df[\"Starting Grid\"] > 10]\n",
    "\n",
    "team_pressure_perf = (\n",
    "    under_pressure.groupby(\"Team\")[[\"Position\", \"Points\"]]\n",
    "    .mean()\n",
    "    .sort_values(by=\"Points\", ascending=False)\n",
    ")\n",
    "\n",
    "print(\"\\n=== Team Performance When Starting Outside Top 10 ===\")\n",
    "print(team_pressure_perf.head(5))"
   ]
  },
  {
   "cell_type": "markdown",
   "id": "eb162a47",
   "metadata": {},
   "source": [
    "### Q4. Which teams consistently performed better at certain tracks compared to others?"
   ]
  },
  {
   "cell_type": "code",
   "execution_count": 12,
   "id": "e59737fe",
   "metadata": {},
   "outputs": [
    {
     "name": "stdout",
     "output_type": "stream",
     "text": [
      "\n",
      "=== Track-Specific Team Performance (Avg Position) ===\n",
      "            Track                        Team  Position\n",
      "15         Brazil            McLaren Mercedes       1.5\n",
      "45          Qatar            McLaren Mercedes       1.5\n",
      "38          Miami  Red Bull Racing Honda RBPT       2.0\n",
      "28          China  Red Bull Racing Honda RBPT       2.0\n",
      "5         Austria            McLaren Mercedes       2.5\n",
      "52  United States                     Ferrari       3.0\n",
      "32          Miami                     Ferrari       3.5\n",
      "12         Brazil                     Ferrari       4.0\n",
      "22          China                     Ferrari       4.5\n",
      "8         Austria  Red Bull Racing Honda RBPT       4.5\n"
     ]
    }
   ],
   "source": [
    "if \"Track\" in df.columns:\n",
    "    team_track_perf = (\n",
    "        df.groupby([\"Track\", \"Team\"])[\"Position\"]\n",
    "        .mean()\n",
    "        .reset_index()\n",
    "        .sort_values(by=\"Position\")\n",
    "    )\n",
    "    print(\"\\n=== Track-Specific Team Performance (Avg Position) ===\")\n",
    "    print(team_track_perf.head(10))\n",
    "else:\n",
    "    print(\"\\n⚠️ 'Track' column not found in dataset. Skipping analysis.\")"
   ]
  }
 ],
 "metadata": {
  "kernelspec": {
   "display_name": "Python 3",
   "language": "python",
   "name": "python3"
  },
  "language_info": {
   "codemirror_mode": {
    "name": "ipython",
    "version": 3
   },
   "file_extension": ".py",
   "mimetype": "text/x-python",
   "name": "python",
   "nbconvert_exporter": "python",
   "pygments_lexer": "ipython3",
   "version": "3.11.9"
  }
 },
 "nbformat": 4,
 "nbformat_minor": 5
}
